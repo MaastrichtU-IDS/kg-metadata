{
 "cells": [
  {
   "cell_type": "code",
   "execution_count": null,
   "metadata": {},
   "outputs": [],
   "source": [
    "!pip install rdflib pyshacl"
   ]
  },
  {
   "cell_type": "code",
   "execution_count": 8,
   "metadata": {},
   "outputs": [
    {
     "name": "stdout",
     "output_type": "stream",
     "text": [
      "Conforms: True\n",
      "Results Text: Validation Report\n",
      "Conforms: True\n",
      "\n"
     ]
    }
   ],
   "source": [
    "import rdflib\n",
    "from pyshacl import validate\n",
    "import logging\n",
    "\n",
    "# Enable logging for detailed error description\n",
    "logging.basicConfig(level=logging.DEBUG)\n",
    "\n",
    "# Define the file paths\n",
    "rdf_file_path = 'kg-metadata/data/metadata/wikidata.rdf'\n",
    "shacl_file_path = 'kg-metadata/data/shacl/kg.shacl'\n",
    "service_file_path = 'kg-metadata/data/shacl/dataservice.shacl'\n",
    "\n",
    "try:\n",
    "    # Create an RDF graph\n",
    "    data_graph = rdflib.Graph()\n",
    "    data_graph.parse(rdf_file_path, format=\"turtle\")\n",
    "\n",
    "    # Create a SHACL graph\n",
    "    shapes_graph = rdflib.Graph()\n",
    "    shapes_graph.parse(shacl_file_path, format=\"turtle\")\n",
    "    \n",
    "    shapes_graph.parse(service_file_path, format=\"turtle\")\n",
    "    \n",
    "    # Validate the data against the SHACL shapes\n",
    "    conforms, results_graph, results_text = validate(data_graph, shacl_graph=shapes_graph, advanced=True)\n",
    "\n",
    "    # Print validation results\n",
    "    print(\"Conforms:\", conforms)\n",
    "    print(\"Results Text:\", results_text)\n",
    "\n",
    "    # Display the results graph\n",
    "    #for s, p, o in results_graph:\n",
    "    #    print(s, p, o)\n",
    "\n",
    "except Exception as e:\n",
    "    print(\"An error occurred:\")\n",
    "    print(e)"
   ]
  }
 ],
 "metadata": {
  "kernelspec": {
   "display_name": ".venv",
   "language": "python",
   "name": "python3"
  },
  "language_info": {
   "codemirror_mode": {
    "name": "ipython",
    "version": 3
   },
   "file_extension": ".py",
   "mimetype": "text/x-python",
   "name": "python",
   "nbconvert_exporter": "python",
   "pygments_lexer": "ipython3",
   "version": "3.10.12"
  }
 },
 "nbformat": 4,
 "nbformat_minor": 2
}
